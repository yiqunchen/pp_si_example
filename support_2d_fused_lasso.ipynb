{
 "cells": [
  {
   "cell_type": "code",
   "execution_count": 9,
   "metadata": {},
   "outputs": [],
   "source": [
    "import numpy as np\n",
    "import matplotlib.pyplot as plt\n",
    "import statsmodels.api as sm\n",
    "import gen_data\n",
    "import qp_solver\n",
    "import util\n",
    "import parametric_si\n",
    "\n",
    "import networkx as nx"
   ]
  },
  {
   "cell_type": "code",
   "execution_count": 10,
   "metadata": {},
   "outputs": [],
   "source": [
    "def compute_c_d(X, a, b, p, lamda):\n",
    "    dim_beta = p\n",
    "    dim_z = p - 1\n",
    "    no_vars = p + 2 * dim_z\n",
    "\n",
    "    e_1 = lamda * np.hstack((np.zeros(dim_beta), np.ones(2 * dim_z)))\n",
    "    e_2 = np.hstack((np.dot(X.T, a).flatten(), np.zeros(2 * dim_z)))\n",
    "\n",
    "    c = e_1 - e_2\n",
    "    d = np.hstack((-np.dot(X.T, b).flatten(), np.zeros(2 * dim_z)))\n",
    "\n",
    "    c = c.reshape((no_vars, 1))\n",
    "    d = d.reshape((no_vars, 1))\n",
    "\n",
    "    return c, d\n",
    "\n",
    "\n",
    "def construct_P_q_G_h_A_b(X, y, D, n, p, lamda):\n",
    "    dim_beta = p\n",
    "    dim_z = p - 1\n",
    "    no_vars = p + 2 * dim_z\n",
    "\n",
    "    # construct P\n",
    "    e_1 = np.hstack((X, np.zeros((n, 2 * dim_z))))\n",
    "    P = np.dot(e_1.T, e_1)\n",
    "\n",
    "    # construct q\n",
    "    e_1 = lamda * np.hstack((np.zeros(dim_beta), np.ones(2 * dim_z)))\n",
    "    e_2 = np.hstack((np.dot(X.T, y).flatten(), np.zeros(2 * dim_z)))\n",
    "    q = e_1 - e_2\n",
    "    q = q.reshape((no_vars, 1))\n",
    "\n",
    "    # construct G\n",
    "    G = np.zeros((no_vars, no_vars))\n",
    "    G[dim_beta:, dim_beta:] = np.zeros((2 * dim_z, 2 * dim_z)) - np.identity(2 * dim_z)\n",
    "\n",
    "    # construct h\n",
    "    h = np.zeros((no_vars, 1))\n",
    "\n",
    "    # construct A\n",
    "    e_1 = np.hstack((np.identity(dim_z), np.zeros((dim_z, dim_z)) - np.identity(dim_z)))\n",
    "    A = np.hstack((-D, e_1))\n",
    "\n",
    "    # construct b\n",
    "    b = np.zeros((D.shape[0], 1))\n",
    "\n",
    "    return P, q, G, h, A, b\n"
   ]
  },
  {
   "cell_type": "code",
   "execution_count": 11,
   "metadata": {},
   "outputs": [],
   "source": [
    "m_1 = 8\n",
    "m_2 = 8\n",
    "\n",
    "nodes = range(1,m_1*m_2+1)\n",
    "edges = []\n",
    "for i in nodes:\n",
    "    if(i%m_1!=0):\n",
    "        edges.append([i,i+1])\n",
    "    if((i+m_1)<(m_1*m_2+1)):\n",
    "        edges.append([i,i+m_2])\n",
    "        \n",
    "G = nx.DiGraph()\n",
    "G.add_nodes_from(nodes)\n",
    "G.add_edges_from(edges)\n",
    "\n",
    "incidence_matrix = -nx.incidence_matrix(G, oriented=True) \n"
   ]
  },
  {
   "cell_type": "code",
   "execution_count": 20,
   "metadata": {},
   "outputs": [],
   "source": [
    "n = m_1*m_2\n",
    "p = n\n",
    "X = np.identity(n)\n",
    "D = np.transpose(incidence_matrix.toarray())\n",
    "\n",
    "# There are three piecewise constant regions\n",
    "true_y_2d = np.zeros((m_1,m_2))\n",
    "true_y_2d[5:8,5:8] = 3\n",
    "true_y_2d[0:3,0:3] = -3\n",
    "\n",
    "np.random.seed(1234)\n",
    "true_y = true_y_2d.flatten() #np.zeros(n)\n",
    "y = true_y + np.random.normal(0, 1, n)\n",
    "lamda = 4\n",
    "\n",
    "y = y.reshape((n, 1))\n",
    "true_y = true_y.reshape((n, 1))"
   ]
  },
  {
   "cell_type": "code",
   "execution_count": 21,
   "metadata": {},
   "outputs": [
    {
     "data": {
      "text/plain": [
       "Text(0.5, 1.0, 'True mean')"
      ]
     },
     "execution_count": 21,
     "metadata": {},
     "output_type": "execute_result"
    },
    {
     "data": {
      "image/png": "[encoded data removed]",
      "text/plain": [
       "<Figure size 432x288 with 1 Axes>"
      ]
     },
     "metadata": {
      "needs_background": "light"
     },
     "output_type": "display_data"
    }
   ],
   "source": [
    "plt.imshow(true_y_2d)\n",
    "plt.title(\"True mean\")"
   ]
  },
  {
   "cell_type": "code",
   "execution_count": 22,
   "metadata": {},
   "outputs": [
    {
     "data": {
      "text/plain": [
       "Text(0.5, 1.0, 'Noisy observation')"
      ]
     },
     "execution_count": 22,
     "metadata": {},
     "output_type": "execute_result"
    },
    {
     "data": {
      "image/png": "[encoded data removed]",
      "text/plain": [
       "<Figure size 432x288 with 1 Axes>"
      ]
     },
     "metadata": {
      "needs_background": "light"
     },
     "output_type": "display_data"
    }
   ],
   "source": [
    "plt.imshow(y.reshape((8,8)))\n",
    "plt.title(\"Noisy observation\")"
   ]
  },
  {
   "cell_type": "code",
   "execution_count": 23,
   "metadata": {},
   "outputs": [
    {
     "ename": "ValueError",
     "evalue": "all the input array dimensions for the concatenation axis must match exactly, but along dimension 0, the array at index 0 has size 112 and the array at index 1 has size 63",
     "output_type": "error",
     "traceback": [
      "\u001b[0;31m---------------------------------------------------------------------------\u001b[0m",
      "\u001b[0;31mValueError\u001b[0m                                Traceback (most recent call last)",
      "\u001b[0;32m<ipython-input-23-5b8e4d885c79>\u001b[0m in \u001b[0;36m<module>\u001b[0;34m\u001b[0m\n\u001b[0;32m----> 1\u001b[0;31m \u001b[0mP\u001b[0m\u001b[0;34m,\u001b[0m \u001b[0mq\u001b[0m\u001b[0;34m,\u001b[0m \u001b[0mG\u001b[0m\u001b[0;34m,\u001b[0m \u001b[0mh\u001b[0m\u001b[0;34m,\u001b[0m \u001b[0mA\u001b[0m\u001b[0;34m,\u001b[0m \u001b[0mb\u001b[0m \u001b[0;34m=\u001b[0m \u001b[0mconstruct_P_q_G_h_A_b\u001b[0m\u001b[0;34m(\u001b[0m\u001b[0mX\u001b[0m\u001b[0;34m,\u001b[0m \u001b[0my\u001b[0m\u001b[0;34m,\u001b[0m \u001b[0mD\u001b[0m\u001b[0;34m,\u001b[0m \u001b[0mn\u001b[0m\u001b[0;34m,\u001b[0m \u001b[0mp\u001b[0m\u001b[0;34m,\u001b[0m \u001b[0mlamda\u001b[0m\u001b[0;34m)\u001b[0m\u001b[0;34m\u001b[0m\u001b[0;34m\u001b[0m\u001b[0m\n\u001b[0m\u001b[1;32m      2\u001b[0m \u001b[0;34m\u001b[0m\u001b[0m\n\u001b[1;32m      3\u001b[0m \u001b[0mdim_x\u001b[0m \u001b[0;34m=\u001b[0m \u001b[0mp\u001b[0m \u001b[0;34m+\u001b[0m \u001b[0;36m2\u001b[0m \u001b[0;34m*\u001b[0m \u001b[0;34m(\u001b[0m\u001b[0mp\u001b[0m \u001b[0;34m-\u001b[0m \u001b[0;36m1\u001b[0m\u001b[0;34m)\u001b[0m\u001b[0;34m\u001b[0m\u001b[0;34m\u001b[0m\u001b[0m\n\u001b[1;32m      4\u001b[0m \u001b[0mx\u001b[0m\u001b[0;34m,\u001b[0m \u001b[0mprob\u001b[0m \u001b[0;34m=\u001b[0m \u001b[0mqp_solver\u001b[0m\u001b[0;34m.\u001b[0m\u001b[0mrun\u001b[0m\u001b[0;34m(\u001b[0m\u001b[0mP\u001b[0m\u001b[0;34m,\u001b[0m \u001b[0mq\u001b[0m\u001b[0;34m,\u001b[0m \u001b[0mG\u001b[0m\u001b[0;34m,\u001b[0m \u001b[0mh\u001b[0m\u001b[0;34m,\u001b[0m \u001b[0mA\u001b[0m\u001b[0;34m,\u001b[0m \u001b[0mb\u001b[0m\u001b[0;34m,\u001b[0m \u001b[0mdim_x\u001b[0m\u001b[0;34m)\u001b[0m\u001b[0;34m\u001b[0m\u001b[0;34m\u001b[0m\u001b[0m\n\u001b[1;32m      5\u001b[0m \u001b[0;34m\u001b[0m\u001b[0m\n",
      "\u001b[0;32m<ipython-input-10-de7337561b75>\u001b[0m in \u001b[0;36mconstruct_P_q_G_h_A_b\u001b[0;34m(X, y, D, n, p, lamda)\u001b[0m\n\u001b[1;32m     40\u001b[0m     \u001b[0;31m# construct A\u001b[0m\u001b[0;34m\u001b[0m\u001b[0;34m\u001b[0m\u001b[0;34m\u001b[0m\u001b[0m\n\u001b[1;32m     41\u001b[0m     \u001b[0me_1\u001b[0m \u001b[0;34m=\u001b[0m \u001b[0mnp\u001b[0m\u001b[0;34m.\u001b[0m\u001b[0mhstack\u001b[0m\u001b[0;34m(\u001b[0m\u001b[0;34m(\u001b[0m\u001b[0mnp\u001b[0m\u001b[0;34m.\u001b[0m\u001b[0midentity\u001b[0m\u001b[0;34m(\u001b[0m\u001b[0mdim_z\u001b[0m\u001b[0;34m)\u001b[0m\u001b[0;34m,\u001b[0m \u001b[0mnp\u001b[0m\u001b[0;34m.\u001b[0m\u001b[0mzeros\u001b[0m\u001b[0;34m(\u001b[0m\u001b[0;34m(\u001b[0m\u001b[0mdim_z\u001b[0m\u001b[0;34m,\u001b[0m \u001b[0mdim_z\u001b[0m\u001b[0;34m)\u001b[0m\u001b[0;34m)\u001b[0m \u001b[0;34m-\u001b[0m \u001b[0mnp\u001b[0m\u001b[0;34m.\u001b[0m\u001b[0midentity\u001b[0m\u001b[0;34m(\u001b[0m\u001b[0mdim_z\u001b[0m\u001b[0;34m)\u001b[0m\u001b[0;34m)\u001b[0m\u001b[0;34m)\u001b[0m\u001b[0;34m\u001b[0m\u001b[0;34m\u001b[0m\u001b[0m\n\u001b[0;32m---> 42\u001b[0;31m     \u001b[0mA\u001b[0m \u001b[0;34m=\u001b[0m \u001b[0mnp\u001b[0m\u001b[0;34m.\u001b[0m\u001b[0mhstack\u001b[0m\u001b[0;34m(\u001b[0m\u001b[0;34m(\u001b[0m\u001b[0;34m-\u001b[0m\u001b[0mD\u001b[0m\u001b[0;34m,\u001b[0m \u001b[0me_1\u001b[0m\u001b[0;34m)\u001b[0m\u001b[0;34m)\u001b[0m\u001b[0;34m\u001b[0m\u001b[0;34m\u001b[0m\u001b[0m\n\u001b[0m\u001b[1;32m     43\u001b[0m \u001b[0;34m\u001b[0m\u001b[0m\n\u001b[1;32m     44\u001b[0m     \u001b[0;31m# construct b\u001b[0m\u001b[0;34m\u001b[0m\u001b[0;34m\u001b[0m\u001b[0;34m\u001b[0m\u001b[0m\n",
      "\u001b[0;32m<__array_function__ internals>\u001b[0m in \u001b[0;36mhstack\u001b[0;34m(*args, **kwargs)\u001b[0m\n",
      "\u001b[0;32m~/miniconda3/envs/grad_hwk/lib/python3.6/site-packages/numpy/core/shape_base.py\u001b[0m in \u001b[0;36mhstack\u001b[0;34m(tup)\u001b[0m\n\u001b[1;32m    344\u001b[0m         \u001b[0;32mreturn\u001b[0m \u001b[0m_nx\u001b[0m\u001b[0;34m.\u001b[0m\u001b[0mconcatenate\u001b[0m\u001b[0;34m(\u001b[0m\u001b[0marrs\u001b[0m\u001b[0;34m,\u001b[0m \u001b[0;36m0\u001b[0m\u001b[0;34m)\u001b[0m\u001b[0;34m\u001b[0m\u001b[0;34m\u001b[0m\u001b[0m\n\u001b[1;32m    345\u001b[0m     \u001b[0;32melse\u001b[0m\u001b[0;34m:\u001b[0m\u001b[0;34m\u001b[0m\u001b[0;34m\u001b[0m\u001b[0m\n\u001b[0;32m--> 346\u001b[0;31m         \u001b[0;32mreturn\u001b[0m \u001b[0m_nx\u001b[0m\u001b[0;34m.\u001b[0m\u001b[0mconcatenate\u001b[0m\u001b[0;34m(\u001b[0m\u001b[0marrs\u001b[0m\u001b[0;34m,\u001b[0m \u001b[0;36m1\u001b[0m\u001b[0;34m)\u001b[0m\u001b[0;34m\u001b[0m\u001b[0;34m\u001b[0m\u001b[0m\n\u001b[0m\u001b[1;32m    347\u001b[0m \u001b[0;34m\u001b[0m\u001b[0m\n\u001b[1;32m    348\u001b[0m \u001b[0;34m\u001b[0m\u001b[0m\n",
      "\u001b[0;32m<__array_function__ internals>\u001b[0m in \u001b[0;36mconcatenate\u001b[0;34m(*args, **kwargs)\u001b[0m\n",
      "\u001b[0;31mValueError\u001b[0m: all the input array dimensions for the concatenation axis must match exactly, but along dimension 0, the array at index 0 has size 112 and the array at index 1 has size 63"
     ]
    }
   ],
   "source": [
    "P, q, G, h, A, b = construct_P_q_G_h_A_b(X, y, D, n, p, lamda)\n",
    "\n",
    "dim_x = p + 2 * (p - 1)\n",
    "x, prob = qp_solver.run(P, q, G, h, A, b, dim_x)\n",
    "\n",
    "x = x.value\n",
    "\n",
    "beta = x[0:p]\n",
    "list_cp = util.find_list_cp(beta, p)\n",
    "\n",
    "if len(list_cp) == 2:\n",
    "    return None\n",
    "\n",
    "cp_selected_idx = np.random.randint(1, len(list_cp) - 1)\n",
    "cp_selected = list_cp[cp_selected_idx]\n",
    "\n",
    "pre_cp = list_cp[cp_selected_idx - 1]\n",
    "next_cp = list_cp[cp_selected_idx + 1]\n",
    "n_s_1 = cp_selected - pre_cp\n",
    "n_s_2 = next_cp - cp_selected\n",
    "\n",
    "etaj = np.zeros(n)\n",
    "etaj[pre_cp + 1 : cp_selected + 1] = np.ones(n_s_1) / n_s_1\n",
    "etaj[cp_selected + 1 : next_cp + 1] = - np.ones(n_s_2) / n_s_2\n",
    "etaj = etaj.reshape((n, 1))\n",
    "\n",
    "etajTy = np.dot(etaj.T, y)[0][0]\n",
    "\n",
    "a_line, b_line = util.compute_a_b(y, etaj, n)\n",
    "\n",
    "c, d = compute_c_d(X, a_line, b_line, p, lamda)\n",
    "\n",
    "path_zk, path_list_cp = parametric_si.run_parametric_si(P, c, d, G, h, A, b, p, dim_x, z_threshold)\n",
    "\n",
    "tn_mu = np.dot(etaj.T, true_y)[0][0]\n",
    "cov = np.identity(n)\n",
    "pivot = util.pivot(list_cp, path_zk, path_list_cp, etaj, etajTy, cov, tn_mu)"
   ]
  }
 ],
 "metadata": {
  "kernelspec": {
   "display_name": "Python 3",
   "language": "python",
   "name": "python3"
  },
  "language_info": {
   "codemirror_mode": {
    "name": "ipython",
    "version": 3
   },
   "file_extension": ".py",
   "mimetype": "text/x-python",
   "name": "python",
   "nbconvert_exporter": "python",
   "pygments_lexer": "ipython3",
   "version": "3.6.10"
  }
 },
 "nbformat": 4,
 "nbformat_minor": 4
}
